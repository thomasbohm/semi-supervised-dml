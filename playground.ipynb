{
 "cells": [
  {
   "cell_type": "code",
   "execution_count": 146,
   "id": "dd5a04a8",
   "metadata": {},
   "outputs": [],
   "source": [
    "import torch\n",
    "import math\n",
    "import random\n",
    "import os\n",
    "import numpy as np\n",
    "import PIL\n",
    "from collections import defaultdict\n",
    "from torch.utils.data import Dataset, DataLoader"
   ]
  },
  {
   "cell_type": "code",
   "execution_count": 2,
   "id": "d3809570",
   "metadata": {},
   "outputs": [],
   "source": [
    "from torchvision.datasets import ImageFolder"
   ]
  },
  {
   "cell_type": "code",
   "execution_count": 118,
   "id": "279c569d",
   "metadata": {},
   "outputs": [],
   "source": [
    "root = './data/CUB_200_2011' # 'Stanford_Online_Products'\n",
    "#root = 'Stanford_Online_Products'"
   ]
  },
  {
   "cell_type": "code",
   "execution_count": 122,
   "id": "7245f903",
   "metadata": {},
   "outputs": [
    {
     "data": {
      "text/plain": [
       "11788"
      ]
     },
     "execution_count": 122,
     "metadata": {},
     "output_type": "execute_result"
    }
   ],
   "source": [
    "dataset = ImageFolder(root + '/images')\n",
    "len(dataset)"
   ]
  },
  {
   "cell_type": "code",
   "execution_count": 104,
   "id": "404c40cc",
   "metadata": {},
   "outputs": [],
   "source": [
    "cls_to_paths = defaultdict(list)"
   ]
  },
  {
   "cell_type": "code",
   "execution_count": 105,
   "id": "2e76606b",
   "metadata": {},
   "outputs": [],
   "source": [
    "for img, label in dataset.imgs:\n",
    "    cls_to_paths[label].append(img)"
   ]
  },
  {
   "cell_type": "code",
   "execution_count": 106,
   "id": "06caef4c",
   "metadata": {},
   "outputs": [
    {
     "data": {
      "text/plain": [
       "58.94"
      ]
     },
     "execution_count": 106,
     "metadata": {},
     "output_type": "execute_result"
    }
   ],
   "source": [
    "sum(len(cls_to_paths[i]) for i in range(len(cls_to_paths))) / len(cls_to_paths)"
   ]
  },
  {
   "cell_type": "code",
   "execution_count": 108,
   "id": "3b514630",
   "metadata": {},
   "outputs": [
    {
     "name": "stdout",
     "output_type": "stream",
     "text": [
      "0 60\n"
     ]
    }
   ],
   "source": [
    "for label, paths in cls_to_paths.items():\n",
    "    print(label, len(paths))\n",
    "    test = paths\n",
    "    break"
   ]
  },
  {
   "cell_type": "code",
   "execution_count": 110,
   "id": "31ffaa38",
   "metadata": {},
   "outputs": [
    {
     "data": {
      "text/plain": [
       "(3,\n",
       " 57,\n",
       " './data/CUB_200_2011/images/001.Black_footed_Albatross/Black_Footed_Albatross_0008_796083.jpg')"
      ]
     },
     "execution_count": 110,
     "metadata": {},
     "output_type": "execute_result"
    }
   ],
   "source": [
    "labeled_fraction = 0.05\n",
    "num_labeled = math.ceil(labeled_fraction * len(test)) # 3\n",
    "\n",
    "random.shuffle(test)\n",
    "labeled, unlabeled = test[:num_labeled], test[num_labeled:]\n",
    "len(labeled), len(unlabeled), labeled[0]"
   ]
  },
  {
   "cell_type": "code",
   "execution_count": 152,
   "id": "74e9775c",
   "metadata": {},
   "outputs": [],
   "source": [
    "class BaseDataset(Dataset):\n",
    "    def __init__(self, root, labels, labeled_fraction):        \n",
    "        self.labels = labels\n",
    "        self.transform = None\n",
    "        \n",
    "        cls_to_paths = defaultdict(list)\n",
    "        imgfolder = ImageFolder(root=os.path.join(root, 'images'))\n",
    "        \n",
    "        for img, label in imgfolder.imgs:\n",
    "            if label in labels:\n",
    "                cls_to_paths[label].append(img)\n",
    "        \n",
    "        self.img_paths, self.targets = [], []\n",
    "        # self.img_paths_unlabeled, self.targets_unlabeled = [], []\n",
    "\n",
    "        for label, paths in cls_to_paths.items():\n",
    "            num_labeled = math.ceil(labeled_fraction * len(paths))\n",
    "            random.shuffle(paths)\n",
    "            \n",
    "            labeled, unlabeled = paths[:num_labeled], paths[num_labeled:]\n",
    "            self.img_paths += labeled\n",
    "            self.targets += [label] * num_labeled\n",
    "            # self.img_paths_unlabeled += unlabeled\n",
    "            # self.targets_unlabeled += [label] * (len(paths) - num_labeled)\n",
    "    \n",
    "    \n",
    "    def num_classes(self):\n",
    "        n = len(np.unique(self.targets))\n",
    "        assert n == len(self.labels)\n",
    "        return n\n",
    "\n",
    "    \n",
    "    def __len__(self):\n",
    "        return len(self.targets)\n",
    "\n",
    "    \n",
    "    def __getitem__(self, index):\n",
    "        img = self.pil_loader(self.img_paths[index])\n",
    "        target = self.targets[index]\n",
    "        \n",
    "        if self.transform:\n",
    "            img = self.transform(img)\n",
    "       \n",
    "        return img, target\n",
    "    \n",
    "    \n",
    "    def pil_loader(self, path):\n",
    "        with open(path, 'rb') as f:\n",
    "            img = PIL.Image.open(f)\n",
    "            return img.convert('RGB')\n",
    "\n"
   ]
  },
  {
   "cell_type": "code",
   "execution_count": 156,
   "id": "1334e230",
   "metadata": {},
   "outputs": [],
   "source": [
    "dataset = BaseDataset(root, range(100), 0.05)"
   ]
  },
  {
   "cell_type": "code",
   "execution_count": 157,
   "id": "1fd40dd2",
   "metadata": {},
   "outputs": [
    {
     "data": {
      "text/plain": [
       "300"
      ]
     },
     "execution_count": 157,
     "metadata": {},
     "output_type": "execute_result"
    }
   ],
   "source": [
    "len(dataset)"
   ]
  },
  {
   "cell_type": "code",
   "execution_count": 160,
   "id": "661ea8f5",
   "metadata": {},
   "outputs": [],
   "source": [
    "counts = defaultdict(int)\n",
    "for x, y in dataset:\n",
    "    counts[y] += 1\n",
    "#counts"
   ]
  },
  {
   "cell_type": "code",
   "execution_count": 159,
   "id": "e5ebd009",
   "metadata": {},
   "outputs": [
    {
     "data": {
      "text/plain": [
       "100"
      ]
     },
     "execution_count": 159,
     "metadata": {},
     "output_type": "execute_result"
    }
   ],
   "source": [
    "dataset.num_classes()"
   ]
  },
  {
   "cell_type": "code",
   "execution_count": null,
   "id": "6f2b9048",
   "metadata": {},
   "outputs": [],
   "source": []
  }
 ],
 "metadata": {
  "kernelspec": {
   "display_name": "Python 3.9.7 ('base')",
   "language": "python",
   "name": "python397jvsc74a57bd040d3a090f54c6569ab1632332b64b2c03c39dcf918b08424e98f38b5ae0af88f"
  },
  "language_info": {
   "codemirror_mode": {
    "name": "ipython",
    "version": 3
   },
   "file_extension": ".py",
   "mimetype": "text/x-python",
   "name": "python",
   "nbconvert_exporter": "python",
   "pygments_lexer": "ipython3",
   "version": "3.9.7"
  }
 },
 "nbformat": 4,
 "nbformat_minor": 5
}
